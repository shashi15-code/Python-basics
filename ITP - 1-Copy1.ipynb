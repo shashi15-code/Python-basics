{
 "cells": [
  {
   "cell_type": "code",
   "execution_count": null,
   "id": "554ff474",
   "metadata": {},
   "outputs": [],
   "source": [
    "A = 20,\n",
    "print(type(A))"
   ]
  },
  {
   "cell_type": "code",
   "execution_count": null,
   "id": "4b403522",
   "metadata": {},
   "outputs": [],
   "source": [
    "name = \"goutham\"; print(name)"
   ]
  },
  {
   "cell_type": "code",
   "execution_count": null,
   "id": "88d1a832",
   "metadata": {},
   "outputs": [],
   "source": [
    "if_names = \"chandra\"\n",
    "print(if_names)"
   ]
  },
  {
   "cell_type": "code",
   "execution_count": null,
   "id": "ad971a94",
   "metadata": {},
   "outputs": [],
   "source": [
    "import keyword\n",
    "\n",
    "print(keyword.kwlist)"
   ]
  },
  {
   "cell_type": "code",
   "execution_count": null,
   "id": "3e351000",
   "metadata": {},
   "outputs": [],
   "source": [
    "a_2 = 21\n",
    "print(a_2)\n",
    "print(id(a_2))"
   ]
  },
  {
   "cell_type": "code",
   "execution_count": null,
   "id": "96ecea7e",
   "metadata": {},
   "outputs": [],
   "source": [
    "sensor = 0\n",
    "\n",
    "if sensor == 0:\n",
    "    print(\"on\")\n",
    "else:\n",
    "    print(\"off\")"
   ]
  },
  {
   "cell_type": "code",
   "execution_count": null,
   "id": "2d4d7625",
   "metadata": {},
   "outputs": [],
   "source": [
    "print = 20"
   ]
  },
  {
   "cell_type": "code",
   "execution_count": null,
   "id": "99cb8efd",
   "metadata": {},
   "outputs": [],
   "source": [
    "var0,var1,var2 = 32,\"hi\",9\n",
    "(var0,var1,var2)"
   ]
  },
  {
   "cell_type": "code",
   "execution_count": null,
   "id": "35984013",
   "metadata": {},
   "outputs": [],
   "source": [
    "print(\"hello\\bworld\")"
   ]
  },
  {
   "cell_type": "code",
   "execution_count": null,
   "id": "da826b3f",
   "metadata": {},
   "outputs": [],
   "source": [
    "print(\"hello\\nworld\")"
   ]
  },
  {
   "cell_type": "code",
   "execution_count": null,
   "id": "12c70dff",
   "metadata": {},
   "outputs": [],
   "source": [
    "print(\"c:\\tiger\")"
   ]
  },
  {
   "cell_type": "code",
   "execution_count": null,
   "id": "c3d839ae",
   "metadata": {},
   "outputs": [],
   "source": [
    "print(\"c:\\\\tiger\")"
   ]
  },
  {
   "cell_type": "code",
   "execution_count": null,
   "id": "a11dcf84",
   "metadata": {},
   "outputs": [],
   "source": [
    "int(bool(1000))"
   ]
  },
  {
   "cell_type": "code",
   "execution_count": null,
   "id": "8dc5f5fc",
   "metadata": {},
   "outputs": [],
   "source": [
    "def names(name1,name2):\n",
    "    print(name1,name2)\n",
    "    return names\n",
    "x =names(\"chandra\",\"shashi\")\n"
   ]
  },
  {
   "cell_type": "code",
   "execution_count": null,
   "id": "f055396c",
   "metadata": {},
   "outputs": [],
   "source": [
    "def withdrawl(amount):\n",
    "    balance = 1000;\n",
    "    balance = balance - amount\n",
    "    print(\"amount after minus\",balance)\n",
    "    return balance\n",
    "\n",
    "b = withdrawl(500)\n",
    "    "
   ]
  },
  {
   "cell_type": "code",
   "execution_count": null,
   "id": "6f9cee53",
   "metadata": {},
   "outputs": [],
   "source": [
    "def kilometer(meter):\n",
    "    meter = meter*1000\n",
    "    print(meter)\n",
    "    return meter \n",
    "k = 5\n",
    "m = kilometer(k)\n",
    "print(m)"
   ]
  },
  {
   "cell_type": "code",
   "execution_count": null,
   "id": "a473bb83",
   "metadata": {},
   "outputs": [],
   "source": [
    "#taking 10% discount on total fees\n",
    "def fees(amount):\n",
    "    percent = 10\n",
    "    values = amount * percent/100\n",
    "    print(\"amount after discount\",values)\n",
    "    return values\n",
    "amount =  10000\n",
    "b = fees(amount)"
   ]
  },
  {
   "cell_type": "code",
   "execution_count": null,
   "id": "1b0286fe",
   "metadata": {},
   "outputs": [],
   "source": [
    "# taking avg on subjects \n",
    "\n",
    "\n",
    "maths = int(input(\"enter marks\")) \n",
    "marks = [75,85,78]\n",
    "sum1 = sum(marks)\n",
    "total_subjects = len(list1)\n",
    "average_marks = total_subjects/sum1 *100 \n",
    "print(\"the average marks is\"average_marks)"
   ]
  },
  {
   "cell_type": "code",
   "execution_count": null,
   "id": "0a44290d",
   "metadata": {},
   "outputs": [],
   "source": [
    "#error code\n",
    "marks1 = int(input(\"enter marks\"))\n",
    "if marks >=70<100:\n",
    "    print(\"distinction\")\n",
    "elif marks >=60<70:\n",
    "    print(\"first class\")\n",
    "elif marks >=50<60:\n",
    "    print(\"second class\")\n",
    "elif marks >=35<50:\n",
    "    print(\"pass class\")\n",
    "elif marks<35:\n",
    "    print(\"fail\")\n",
    "else:\n",
    "    print(\"invalid\")"
   ]
  },
  {
   "cell_type": "code",
   "execution_count": null,
   "id": "3b707bc5",
   "metadata": {},
   "outputs": [],
   "source": [
    "marks = int(input(\"enter marks\"))\n",
    "if marks>=70 and marks <= 100:\n",
    "    print(\"distinction\")\n",
    "elif marks >=60 and marks <70:\n",
    "    print(\"first class\")\n",
    "elif marks >=50 and marks <60:   #  50 is greater then marks and 50 is less then 60\n",
    "    print(\"second class\")\n",
    "elif marks >=35and marks<50:\n",
    "    print(\"pass class\")\n",
    "elif marks<35:\n",
    "    print(\"fail\")\n",
    "else:\n",
    "    print(\"invalid\")"
   ]
  },
  {
   "cell_type": "code",
   "execution_count": null,
   "id": "69d13546",
   "metadata": {},
   "outputs": [],
   "source": [
    "def mark(marks):\n",
    "    if marks>=70 and marks <= 100:\n",
    "        print(\"distinction\",\"grade: A\")\n",
    "    elif marks >=60 and marks <70:\n",
    "        print(\"first class\",\"grade : B\")\n",
    "    elif marks >=50 and marks <60:   #  50 is greater then marks and 50 is less then 60\n",
    "        print(\"second class\",\"grade : C\")\n",
    "    elif marks >=35and marks<50:\n",
    "        print(\"pass class\",\"grade : D\")\n",
    "    elif marks<35:\n",
    "        print(\"fail\",\"grade : F\")\n",
    "    else:\n",
    "        print(\"invalid\")\n",
    "        return \n",
    "\n",
    "mark(65)"
   ]
  },
  {
   "cell_type": "code",
   "execution_count": null,
   "id": "443754ef",
   "metadata": {},
   "outputs": [],
   "source": [
    "def sum1(num1,num2):\n",
    "    value = num1+num2\n",
    "    print(value)\n",
    "    return \n",
    "\n",
    "sum1(12,4)"
   ]
  },
  {
   "cell_type": "code",
   "execution_count": null,
   "id": "3c672af5",
   "metadata": {},
   "outputs": [],
   "source": [
    "a = \"helloworld\"\n",
    "for i in a:\n",
    "    print(i)"
   ]
  },
  {
   "cell_type": "code",
   "execution_count": null,
   "id": "943e3c93",
   "metadata": {},
   "outputs": [],
   "source": [
    "a= \"aasafgs\",\"basas\",\"asasc\",\"dsasa\"\n",
    "#a=\"efghijkl\"\n",
    "a[0] "
   ]
  },
  {
   "cell_type": "code",
   "execution_count": null,
   "id": "dc3f4de2",
   "metadata": {},
   "outputs": [],
   "source": [
    "result =  \"hello\" + \"world\"\n",
    "print(result)"
   ]
  },
  {
   "cell_type": "code",
   "execution_count": null,
   "id": "95293bf8",
   "metadata": {},
   "outputs": [],
   "source": [
    "result1 = \"good\" in \"this is a book\"\n",
    "print(result1)"
   ]
  },
  {
   "cell_type": "code",
   "execution_count": null,
   "id": "d81c7916",
   "metadata": {},
   "outputs": [],
   "source": [
    "result2 = \"good\" not in \"this is a book\"\n",
    "print(result2)"
   ]
  },
  {
   "cell_type": "code",
   "execution_count": null,
   "id": "25b44352",
   "metadata": {},
   "outputs": [],
   "source": [
    "my_str = \"king ring sing bing ping \"\n",
    "\n",
    "ns = my_str.replace(\"ki\",\"ci\")\n",
    "print(ns)"
   ]
  },
  {
   "cell_type": "code",
   "execution_count": null,
   "id": "c2db4448",
   "metadata": {},
   "outputs": [],
   "source": [
    "print(dir(str))"
   ]
  },
  {
   "cell_type": "code",
   "execution_count": null,
   "id": "19a4d6a5",
   "metadata": {},
   "outputs": [],
   "source": [
    "help(str.replace)"
   ]
  },
  {
   "cell_type": "code",
   "execution_count": null,
   "id": "a0b3c971",
   "metadata": {},
   "outputs": [],
   "source": [
    "a = \"HELLOworld\".swapcase()\n",
    "print(a )"
   ]
  },
  {
   "cell_type": "code",
   "execution_count": null,
   "id": "9b63f3ff",
   "metadata": {},
   "outputs": [],
   "source": [
    "a = \"helloworld\".upper()\n",
    "print(a)"
   ]
  },
  {
   "cell_type": "code",
   "execution_count": null,
   "id": "afa7e1ee",
   "metadata": {},
   "outputs": [],
   "source": [
    "a = \"helloworld\".lower()\n",
    "print(a)"
   ]
  },
  {
   "cell_type": "code",
   "execution_count": null,
   "id": "d5cae3cb",
   "metadata": {},
   "outputs": [],
   "source": [
    "for i in range(1,11):\n",
    "    print(5,i,5*i)"
   ]
  },
  {
   "cell_type": "code",
   "execution_count": null,
   "id": "961f0af8",
   "metadata": {},
   "outputs": [],
   "source": [
    "a =  \"chandrashekar\"\n",
    "print(a.replace(\"a\",\"i\").replace(\"r\",\"j\")) "
   ]
  },
  {
   "cell_type": "code",
   "execution_count": null,
   "id": "a4a673d1",
   "metadata": {},
   "outputs": [],
   "source": [
    "print(\"2015\".isdigit())\n",
    "print(\"hello\".isalpha())"
   ]
  },
  {
   "cell_type": "code",
   "execution_count": 1,
   "id": "7b88987f",
   "metadata": {},
   "outputs": [
    {
     "data": {
      "text/plain": [
       "'HELLOworld'"
      ]
     },
     "execution_count": 1,
     "metadata": {},
     "output_type": "execute_result"
    }
   ],
   "source": [
    "a = \"helloWORLD\".swapcase()\n",
    "a "
   ]
  },
  {
   "cell_type": "code",
   "execution_count": 2,
   "id": "79979678",
   "metadata": {},
   "outputs": [
    {
     "name": "stdout",
     "output_type": "stream",
     "text": [
      "True\n"
     ]
    }
   ],
   "source": [
    "print(\"2\".isdigit())"
   ]
  },
  {
   "cell_type": "code",
   "execution_count": 3,
   "id": "e3626d2e",
   "metadata": {},
   "outputs": [
    {
     "name": "stdout",
     "output_type": "stream",
     "text": [
      "False\n"
     ]
    }
   ],
   "source": [
    "print(\"2$\".isdigit())"
   ]
  },
  {
   "cell_type": "code",
   "execution_count": 5,
   "id": "d333502d",
   "metadata": {},
   "outputs": [
    {
     "data": {
      "text/plain": [
       "False"
      ]
     },
     "execution_count": 5,
     "metadata": {},
     "output_type": "execute_result"
    }
   ],
   "source": [
    "a = \"s2atement\"\n",
    "a[1].isalpha()"
   ]
  },
  {
   "cell_type": "code",
   "execution_count": 4,
   "id": "78c10cbc",
   "metadata": {},
   "outputs": [
    {
     "data": {
      "text/plain": [
       "True"
      ]
     },
     "execution_count": 4,
     "metadata": {},
     "output_type": "execute_result"
    }
   ],
   "source": [
    "a = \"statement\"\n",
    "a[1].isalpha()"
   ]
  },
  {
   "cell_type": "code",
   "execution_count": 6,
   "id": "058cce13",
   "metadata": {},
   "outputs": [
    {
     "name": "stdout",
     "output_type": "stream",
     "text": [
      "True\n"
     ]
    }
   ],
   "source": [
    "print(\"7j\".isalnum())"
   ]
  },
  {
   "cell_type": "code",
   "execution_count": 114,
   "id": "9e79b38e",
   "metadata": {},
   "outputs": [
    {
     "name": "stdout",
     "output_type": "stream",
     "text": [
      "['world', 'health', 'organizztion']\n"
     ]
    }
   ],
   "source": [
    "a = \"world health organizztion\"\n",
    "print(a.split())"
   ]
  },
  {
   "cell_type": "code",
   "execution_count": 113,
   "id": "83ab7ff6",
   "metadata": {},
   "outputs": [
    {
     "name": "stdout",
     "output_type": "stream",
     "text": [
      "['world', 'health_organizztion']\n"
     ]
    }
   ],
   "source": [
    "a = \"world_health_organizztion\"\n",
    "print(a.split(\"_\",1))"
   ]
  },
  {
   "cell_type": "code",
   "execution_count": 112,
   "id": "cc87d478",
   "metadata": {},
   "outputs": [
    {
     "name": "stdout",
     "output_type": "stream",
     "text": [
      "['world ', ' organizztion']\n"
     ]
    }
   ],
   "source": [
    "a = \"world health organizztion\"\n",
    "print(a.split(\"health\"))"
   ]
  },
  {
   "cell_type": "code",
   "execution_count": 5,
   "id": "646a2047",
   "metadata": {},
   "outputs": [
    {
     "name": "stdout",
     "output_type": "stream",
     "text": [
      "national_stock_exchange\n"
     ]
    }
   ],
   "source": [
    "strlist= [\"national\",\"stock\",\"exchange\"]\n",
    "print(\"_\".join(strlist))"
   ]
  },
  {
   "cell_type": "code",
   "execution_count": 7,
   "id": "f1d92a4e",
   "metadata": {},
   "outputs": [
    {
     "name": "stdout",
     "output_type": "stream",
     "text": [
      "h_e_l_l_o\n"
     ]
    }
   ],
   "source": [
    "a = [\"hello\"]\n",
    "print(\"_\".join(\"hello\"))"
   ]
  },
  {
   "cell_type": "code",
   "execution_count": 6,
   "id": "75d87b51",
   "metadata": {},
   "outputs": [
    {
     "name": "stdout",
     "output_type": "stream",
     "text": [
      "c_h_a_n_d_r_a\n"
     ]
    }
   ],
   "source": [
    "ms = \"_\".join(\"chandra\")\n",
    "print(ms)"
   ]
  },
  {
   "cell_type": "code",
   "execution_count": null,
   "id": "bf843ed3",
   "metadata": {},
   "outputs": [],
   "source": [
    "help(str.replace)"
   ]
  },
  {
   "cell_type": "code",
   "execution_count": null,
   "id": "10304382",
   "metadata": {},
   "outputs": [],
   "source": [
    "subject = \"english\"\n",
    "num_of_students = 60\n",
    "avg = 98.76\n",
    "n =\"average {} marks of {} a student is {} in this exam\".format(subject,num_of_students,avg)\n",
    "print(n)"
   ]
  },
  {
   "cell_type": "code",
   "execution_count": null,
   "id": "5d70f86a",
   "metadata": {},
   "outputs": [],
   "source": [
    "def displaymarks(s,n,a):\n",
    "    n =\"average {} marks of {} a student got {} in this exam\".format(subject,num_of_students,avg)\n",
    "    print(n)\n",
    "    displaymarks(98,89,76)"
   ]
  },
  {
   "cell_type": "code",
   "execution_count": 8,
   "id": "67c35dc7",
   "metadata": {},
   "outputs": [
    {
     "name": "stdout",
     "output_type": "stream",
     "text": [
      "average 60 marks of 60 a student is 60 in this exam\n"
     ]
    }
   ],
   "source": [
    "#unconstrained printing\n",
    "subject = \"english\"\n",
    "num_of_students = 60\n",
    "avg = 98.76\n",
    "n =\"average {} marks of {} a student is {} in this exam\".format(num_of_students,num_of_students,num_of_students)\n",
    "print(n)"
   ]
  },
  {
   "cell_type": "code",
   "execution_count": 9,
   "id": "cb9e87ba",
   "metadata": {},
   "outputs": [
    {
     "name": "stdout",
     "output_type": "stream",
     "text": [
      "average 98.76 marks of 60 a student is english in this exam\n"
     ]
    }
   ],
   "source": [
    "#formating reverse\n",
    "subject = \"english\"\n",
    "num_of_students = 60\n",
    "avg = 98.76\n",
    "n =\"average {} marks of {} a student is {} in this exam\".format(avg,num_of_students,subject)\n",
    "print(n)"
   ]
  },
  {
   "cell_type": "code",
   "execution_count": 10,
   "id": "77a99061",
   "metadata": {},
   "outputs": [
    {
     "name": "stdout",
     "output_type": "stream",
     "text": [
      "average 98.76 marks of 60 a student is english in this exam\n"
     ]
    }
   ],
   "source": [
    "#constrained printing\n",
    "\n",
    "subject = \"english\"\n",
    "num_of_students = 60\n",
    "avg = 98.76\n",
    "n =\"average {2} marks of {1} a student is {0} in this exam\".format(subject,num_of_students,avg)\n",
    "print(n)"
   ]
  },
  {
   "cell_type": "code",
   "execution_count": 11,
   "id": "6099e4e3",
   "metadata": {},
   "outputs": [
    {
     "name": "stdout",
     "output_type": "stream",
     "text": [
      "average english marks of 60 a student is 98.760000 in this exam\n"
     ]
    }
   ],
   "source": [
    "#right formating \n",
    "\n",
    "#positional mapping\n",
    "\n",
    "subject = \"english\"\n",
    "num_of_students = 60\n",
    "avg = 98.76\n",
    "n =\"average {:s} marks of {:d} a student is {:f} in this exam\".format(subject,num_of_students,avg)\n",
    "print(n) \n",
    "#here s stands for string,d stands for decimal(int),f stands for float"
   ]
  },
  {
   "cell_type": "code",
   "execution_count": 12,
   "id": "ae91c762",
   "metadata": {},
   "outputs": [
    {
     "ename": "ValueError",
     "evalue": "Unknown format code 'd' for object of type 'str'",
     "output_type": "error",
     "traceback": [
      "\u001b[1;31m---------------------------------------------------------------------------\u001b[0m",
      "\u001b[1;31mValueError\u001b[0m                                Traceback (most recent call last)",
      "Input \u001b[1;32mIn [12]\u001b[0m, in \u001b[0;36m<cell line: 6>\u001b[1;34m()\u001b[0m\n\u001b[0;32m      4\u001b[0m num_of_students \u001b[38;5;241m=\u001b[39m \u001b[38;5;241m60\u001b[39m\n\u001b[0;32m      5\u001b[0m avg \u001b[38;5;241m=\u001b[39m \u001b[38;5;241m98.76\u001b[39m\n\u001b[1;32m----> 6\u001b[0m n \u001b[38;5;241m=\u001b[39m\u001b[38;5;124;43m\"\u001b[39;49m\u001b[38;5;124;43maverage \u001b[39;49m\u001b[38;5;132;43;01m{:d}\u001b[39;49;00m\u001b[38;5;124;43m marks of \u001b[39;49m\u001b[38;5;132;43;01m{:s}\u001b[39;49;00m\u001b[38;5;124;43m a student is \u001b[39;49m\u001b[38;5;132;43;01m{:f}\u001b[39;49;00m\u001b[38;5;124;43m in this exam\u001b[39;49m\u001b[38;5;124;43m\"\u001b[39;49m\u001b[38;5;241;43m.\u001b[39;49m\u001b[43mformat\u001b[49m\u001b[43m(\u001b[49m\u001b[43msubject\u001b[49m\u001b[43m,\u001b[49m\u001b[43mnum_of_students\u001b[49m\u001b[43m,\u001b[49m\u001b[43mavg\u001b[49m\u001b[43m)\u001b[49m\n\u001b[0;32m      7\u001b[0m \u001b[38;5;28mprint\u001b[39m(n)\n",
      "\u001b[1;31mValueError\u001b[0m: Unknown format code 'd' for object of type 'str'"
     ]
    }
   ],
   "source": [
    "# wrong formatting \n",
    "\n",
    "subject = \"english\"\n",
    "num_of_students = 60\n",
    "avg = 98.76\n",
    "n =\"average {:d} marks of {:s} a student is {:f} in this exam\".format(subject,num_of_students,avg)\n",
    "print(n)"
   ]
  },
  {
   "cell_type": "code",
   "execution_count": 13,
   "id": "dfaad372",
   "metadata": {},
   "outputs": [
    {
     "name": "stdout",
     "output_type": "stream",
     "text": [
      "average english marks of 60 a student is 98.760000 in this exam\n"
     ]
    }
   ],
   "source": [
    "subject = \"english\"\n",
    "num_of_students = 60\n",
    "avg = 98.76\n",
    "n =\"average {0:s} marks of {1:d} a student is {2:f} in this exam\".format(subject,num_of_students,avg)\n",
    "print(n)"
   ]
  },
  {
   "cell_type": "code",
   "execution_count": 14,
   "id": "7484d1d2",
   "metadata": {},
   "outputs": [
    {
     "name": "stdout",
     "output_type": "stream",
     "text": [
      "++++PYTHON\n"
     ]
    }
   ],
   "source": [
    "#left alignment \n",
    "ns1= \"{:+>10s}\".format(\"PYTHON\")\n",
    "print(ns1)"
   ]
  },
  {
   "cell_type": "code",
   "execution_count": 15,
   "id": "e34cfb6b",
   "metadata": {},
   "outputs": [
    {
     "name": "stdout",
     "output_type": "stream",
     "text": [
      "PYTHON++++\n"
     ]
    }
   ],
   "source": [
    "#right alignment\n",
    "\n",
    "ns1= \"{:+<10s}\".format(\"PYTHON\")\n",
    "print(ns1)"
   ]
  },
  {
   "cell_type": "code",
   "execution_count": 16,
   "id": "b6bd8e35",
   "metadata": {},
   "outputs": [
    {
     "name": "stdout",
     "output_type": "stream",
     "text": [
      "++PYTHON++\n"
     ]
    }
   ],
   "source": [
    "# centre alignment\n",
    "\n",
    "ns1= \"{:+^10s}\".format(\"PYTHON\")\n",
    "print(ns1)"
   ]
  },
  {
   "cell_type": "code",
   "execution_count": 10,
   "id": "a3fc34d5",
   "metadata": {},
   "outputs": [
    {
     "name": "stdout",
     "output_type": "stream",
     "text": [
      "         *\n",
      "       ***\n",
      "     *****\n",
      "   *******\n",
      " *********\n"
     ]
    }
   ],
   "source": [
    "# right alignment stars\n",
    "for i in range(1,11,2):\n",
    "    ns1= \"{0:>10s}\".format(\"*\"*i)\n",
    "    print(ns1)"
   ]
  },
  {
   "cell_type": "code",
   "execution_count": 4,
   "id": "d5e14e53",
   "metadata": {},
   "outputs": [
    {
     "name": "stdout",
     "output_type": "stream",
     "text": [
      "*         \n",
      "***       \n",
      "*****     \n",
      "*******   \n",
      "********* \n"
     ]
    }
   ],
   "source": [
    "#left side alignment stars\n",
    "for i in range(1,11,2):\n",
    "    ns1= \"{0:<10s}\".format(\"*\"*i)\n",
    "    print(ns1)"
   ]
  },
  {
   "cell_type": "code",
   "execution_count": 8,
   "id": "bb89d048",
   "metadata": {},
   "outputs": [
    {
     "name": "stdout",
     "output_type": "stream",
     "text": [
      "    *     \n",
      "   ***    \n",
      "  *****   \n",
      " *******  \n",
      "********* \n"
     ]
    }
   ],
   "source": [
    "# centre alignment stars\n",
    "\n",
    "for i in range(1,11,2):\n",
    "    ns1= \"{0:^10s}\".format(\"*\"*i)\n",
    "    print(ns1)"
   ]
  },
  {
   "cell_type": "code",
   "execution_count": 5,
   "id": "c6295d35",
   "metadata": {},
   "outputs": [
    {
     "name": "stdout",
     "output_type": "stream",
     "text": [
      "                                                 *                                                  \n",
      "100\n",
      "                                                ***                                                 \n",
      "100\n",
      "                                               *****                                                \n",
      "100\n",
      "                                              *******                                               \n",
      "100\n",
      "                                             *********                                              \n",
      "100\n"
     ]
    }
   ],
   "source": [
    "for i in range(1,11,2):\n",
    "    ns1= \"{0:^100s}\".format(\"*\"*i)\n",
    "    print(ns1)\n",
    "    print(len(ns1))"
   ]
  },
  {
   "cell_type": "code",
   "execution_count": null,
   "id": "6bb756c4",
   "metadata": {},
   "outputs": [],
   "source": [
    "mlist = [\"hello\",123,(20,\"world\"),[1,\"jan\"]]"
   ]
  },
  {
   "cell_type": "code",
   "execution_count": null,
   "id": "10b247a0",
   "metadata": {},
   "outputs": [],
   "source": [
    "mylist =list(\"hello\")\n",
    "print(\"mylist\")"
   ]
  },
  {
   "cell_type": "code",
   "execution_count": 1,
   "id": "07efed65",
   "metadata": {},
   "outputs": [
    {
     "name": "stdout",
     "output_type": "stream",
     "text": [
      "[11, 22, 33, 44, 'python', 's', 'd', 'de']\n"
     ]
    }
   ],
   "source": [
    "mylist1 = [11,22,33,44] + [\"python\",\"s\",\"d\",\"de\"]\n",
    "print(mylist1)"
   ]
  },
  {
   "cell_type": "code",
   "execution_count": null,
   "id": "f3fed3bf",
   "metadata": {},
   "outputs": [],
   "source": [
    "mylist2 = [22,33,44/3]\n",
    "print(mylist2)"
   ]
  },
  {
   "cell_type": "code",
   "execution_count": null,
   "id": "7f9e052b",
   "metadata": {},
   "outputs": [],
   "source": [
    "mylist2 = [22,33,44]*3\n",
    "print(mylist2)"
   ]
  },
  {
   "cell_type": "code",
   "execution_count": 116,
   "id": "a513485e",
   "metadata": {},
   "outputs": [
    {
     "data": {
      "text/plain": [
       "'a'"
      ]
     },
     "execution_count": 116,
     "metadata": {},
     "output_type": "execute_result"
    }
   ],
   "source": [
    "mylist3 = [\"hello\",\"data\",\"world\"]\n",
    "mylist3[1][1]"
   ]
  },
  {
   "cell_type": "code",
   "execution_count": 7,
   "id": "5db3d2fb",
   "metadata": {},
   "outputs": [
    {
     "data": {
      "text/plain": [
       "False"
      ]
     },
     "execution_count": 7,
     "metadata": {},
     "output_type": "execute_result"
    }
   ],
   "source": [
    "mylist4 = [\"hello\",\"data\",\"world\"]\n",
    "mylist4[0] == \"hey\""
   ]
  },
  {
   "cell_type": "code",
   "execution_count": null,
   "id": "d0a2ca41",
   "metadata": {},
   "outputs": [],
   "source": [
    "mylist5 = [\"hello\",\"data\",\"world\"]\n",
    "mylist5.remove(\"world\")\n",
    "print(mylist5)"
   ]
  },
  {
   "cell_type": "code",
   "execution_count": null,
   "id": "8b3d284d",
   "metadata": {},
   "outputs": [],
   "source": [
    "mylist6 = [\"hello\",\"data\",\"world\"]\n",
    "mylist6.insert(0,\"hey\")\n",
    "print(mylist6)"
   ]
  },
  {
   "cell_type": "code",
   "execution_count": null,
   "id": "8dcf110b",
   "metadata": {},
   "outputs": [],
   "source": [
    "print(dir(list))"
   ]
  },
  {
   "cell_type": "code",
   "execution_count": 117,
   "id": "0d2ece66",
   "metadata": {},
   "outputs": [
    {
     "name": "stdout",
     "output_type": "stream",
     "text": [
      "['data', 'hello', 'world']\n"
     ]
    }
   ],
   "source": [
    "mylist7= [\"hello\",\"data\",\"world\"]\n",
    "mylist7.sort()\n",
    "print(mylist7)"
   ]
  },
  {
   "cell_type": "code",
   "execution_count": null,
   "id": "a0f14410",
   "metadata": {},
   "outputs": [],
   "source": [
    "mylist8 = [\"hello\",\"data\",\"world\"]\n",
    "mylist8.clear()\n",
    "print(mylist8)"
   ]
  },
  {
   "cell_type": "code",
   "execution_count": null,
   "id": "302697e9",
   "metadata": {},
   "outputs": [],
   "source": [
    "mylist9 = [\"hello\",\"data\",\"world\"]\n",
    "mylist9.reverse()\n",
    "print(mylist9)"
   ]
  },
  {
   "cell_type": "code",
   "execution_count": null,
   "id": "df1ebdbf",
   "metadata": {},
   "outputs": [],
   "source": [
    "mylist10 = [\"hello\",\"data\",\"world\"]\n",
    "mylist10.extend(\"hello\")\n",
    "print(mylist10)"
   ]
  },
  {
   "cell_type": "code",
   "execution_count": null,
   "id": "ebd8e7cf",
   "metadata": {},
   "outputs": [],
   "source": [
    "mylist11 = [\"hello\",\"data\",\"world\"]\n",
    "mylist11.append(90)\n",
    "print(mylist11)"
   ]
  },
  {
   "cell_type": "code",
   "execution_count": 119,
   "id": "1ffa6cbd",
   "metadata": {},
   "outputs": [
    {
     "name": "stdout",
     "output_type": "stream",
     "text": [
      "['hello', 'data']\n"
     ]
    }
   ],
   "source": [
    "mylist12=[\"hello\",\"data\",\"world\"]\n",
    "mylist12.pop()\n",
    "print(mylist12)"
   ]
  },
  {
   "cell_type": "code",
   "execution_count": null,
   "id": "b8ce364c",
   "metadata": {},
   "outputs": [],
   "source": [
    "mylist13 = [\"hello\",\"data\",\"world\"]\n",
    "mylist13.index(\"world\",2)\n",
    "print(mylist13)"
   ]
  },
  {
   "cell_type": "code",
   "execution_count": null,
   "id": "5cb217f6",
   "metadata": {},
   "outputs": [],
   "source": [
    "count =  9\n",
    "while count <10:\n",
    "    print(\"true\")\n",
    "    count =count + 1\n",
    "    "
   ]
  },
  {
   "cell_type": "code",
   "execution_count": 118,
   "id": "033c734f",
   "metadata": {},
   "outputs": [
    {
     "name": "stdout",
     "output_type": "stream",
     "text": [
      "1\n",
      "['hello', 'data', 'world']\n"
     ]
    }
   ],
   "source": [
    "mylist14 = [\"hello\",\"data\",\"world\"]\n",
    "a = mylist14.count(\"data\")\n",
    "print(a)\n",
    "print(mylist14)"
   ]
  },
  {
   "cell_type": "code",
   "execution_count": null,
   "id": "38c58ad7",
   "metadata": {},
   "outputs": [],
   "source": [
    "mylist15 = [\"12,44,565,767\",\"77\"]\n",
    "print(len(mylist15))"
   ]
  },
  {
   "cell_type": "code",
   "execution_count": null,
   "id": "bb0272ed",
   "metadata": {},
   "outputs": [],
   "source": [
    "mylist16 = [\"hello\",\"data\",\"world\"(1,2,3),\"a\",1,2,5,\"b\",\"c\"]\n",
    "mylist16.sort()"
   ]
  },
  {
   "cell_type": "code",
   "execution_count": 144,
   "id": "4d562d33",
   "metadata": {},
   "outputs": [],
   "source": [
    "def keysorting(obj):\n",
    "    if isinstance(obj,int):\n",
    "        return obj\n",
    "    if isinstance(obj,(str,list,tuple)):\n",
    "        return len(obj)\n",
    "    return 124"
   ]
  },
  {
   "cell_type": "code",
   "execution_count": 45,
   "id": "e4f22de3",
   "metadata": {},
   "outputs": [
    {
     "name": "stdout",
     "output_type": "stream",
     "text": [
      "[0, 1, 'a', 2, 'if', 3, 4, [11, 22, 33, 0], 5, 123, {'name': 'shashi'}]\n"
     ]
    }
   ],
   "source": [
    "\n",
    "s = [0,1,2,3,4,\"a\",5,\"if\",{\"name\":\"shashi\"},[11,22,33,0],123]\n",
    "s.sort(key=keysorting)\n",
    "print(s)"
   ]
  },
  {
   "cell_type": "code",
   "execution_count": 145,
   "id": "d69c1323",
   "metadata": {},
   "outputs": [],
   "source": [
    "def keysortings(obj):\n",
    "    if isinstance(obj,(int,list,tuple,str)):\n",
    "        return obj\n",
    "    else:\n",
    "        return 124"
   ]
  },
  {
   "cell_type": "code",
   "execution_count": 146,
   "id": "f70e78fd",
   "metadata": {},
   "outputs": [
    {
     "ename": "TypeError",
     "evalue": "'<' not supported between instances of 'str' and 'int'",
     "output_type": "error",
     "traceback": [
      "\u001b[1;31m---------------------------------------------------------------------------\u001b[0m",
      "\u001b[1;31mTypeError\u001b[0m                                 Traceback (most recent call last)",
      "Input \u001b[1;32mIn [146]\u001b[0m, in \u001b[0;36m<cell line: 2>\u001b[1;34m()\u001b[0m\n\u001b[0;32m      1\u001b[0m l \u001b[38;5;241m=\u001b[39m [\u001b[38;5;241m0\u001b[39m,\u001b[38;5;241m1\u001b[39m,\u001b[38;5;241m2\u001b[39m,\u001b[38;5;241m3\u001b[39m,\u001b[38;5;241m4\u001b[39m,\u001b[38;5;124m\"\u001b[39m\u001b[38;5;124ma\u001b[39m\u001b[38;5;124m\"\u001b[39m,\u001b[38;5;241m5\u001b[39m,\u001b[38;5;124m\"\u001b[39m\u001b[38;5;124mif\u001b[39m\u001b[38;5;124m\"\u001b[39m,{\u001b[38;5;124m\"\u001b[39m\u001b[38;5;124mname\u001b[39m\u001b[38;5;124m\"\u001b[39m:\u001b[38;5;124m\"\u001b[39m\u001b[38;5;124mshashi\u001b[39m\u001b[38;5;124m\"\u001b[39m},[\u001b[38;5;241m11\u001b[39m,\u001b[38;5;241m22\u001b[39m,\u001b[38;5;241m33\u001b[39m,\u001b[38;5;241m0\u001b[39m],\u001b[38;5;241m123\u001b[39m]\n\u001b[1;32m----> 2\u001b[0m \u001b[43ml\u001b[49m\u001b[38;5;241;43m.\u001b[39;49m\u001b[43msort\u001b[49m\u001b[43m(\u001b[49m\u001b[43mkey\u001b[49m\u001b[38;5;241;43m=\u001b[39;49m\u001b[43mkeysortings\u001b[49m\u001b[43m)\u001b[49m\n\u001b[0;32m      3\u001b[0m \u001b[38;5;28mprint\u001b[39m(l)\n",
      "\u001b[1;31mTypeError\u001b[0m: '<' not supported between instances of 'str' and 'int'"
     ]
    }
   ],
   "source": [
    "l = [0,1,2,3,4,\"a\",5,\"if\",{\"name\":\"shashi\"},[11,22,33,0],123]\n",
    "l.sort(key=keysortings)\n",
    "print(l)"
   ]
  },
  {
   "cell_type": "code",
   "execution_count": 55,
   "id": "1a7b1310",
   "metadata": {},
   "outputs": [
    {
     "name": "stdout",
     "output_type": "stream",
     "text": [
      "1\n"
     ]
    }
   ],
   "source": [
    "tuple1 = (1,2,3,4,5,6,7)\n",
    "a =tuple1.count(2)\n",
    "print(a)\n"
   ]
  },
  {
   "cell_type": "code",
   "execution_count": 51,
   "id": "00ea6d87",
   "metadata": {},
   "outputs": [
    {
     "name": "stdout",
     "output_type": "stream",
     "text": [
      "<class 'str'>\n"
     ]
    }
   ],
   "source": [
    "tuple2 = \"1\",\n",
    "print(type(tuple2))"
   ]
  },
  {
   "cell_type": "code",
   "execution_count": 52,
   "id": "55119628",
   "metadata": {},
   "outputs": [
    {
     "name": "stdout",
     "output_type": "stream",
     "text": [
      "['__add__', '__class__', '__class_getitem__', '__contains__', '__delattr__', '__dir__', '__doc__', '__eq__', '__format__', '__ge__', '__getattribute__', '__getitem__', '__getnewargs__', '__gt__', '__hash__', '__init__', '__init_subclass__', '__iter__', '__le__', '__len__', '__lt__', '__mul__', '__ne__', '__new__', '__reduce__', '__reduce_ex__', '__repr__', '__rmul__', '__setattr__', '__sizeof__', '__str__', '__subclasshook__', 'count', 'index']\n"
     ]
    }
   ],
   "source": [
    "print(dir(tuple)) "
   ]
  },
  {
   "cell_type": "code",
   "execution_count": 56,
   "id": "f6a8bc91",
   "metadata": {},
   "outputs": [
    {
     "name": "stdout",
     "output_type": "stream",
     "text": [
      "[22, 32, 233, 4, 1]\n"
     ]
    }
   ],
   "source": [
    "m = (22,32,233,4)\n",
    "d = list(m)\n",
    "d.append(1)\n",
    "print(d) "
   ]
  },
  {
   "cell_type": "code",
   "execution_count": 57,
   "id": "a21cb5c5",
   "metadata": {},
   "outputs": [
    {
     "name": "stdout",
     "output_type": "stream",
     "text": [
      "['__class__', '__class_getitem__', '__contains__', '__delattr__', '__delitem__', '__dir__', '__doc__', '__eq__', '__format__', '__ge__', '__getattribute__', '__getitem__', '__gt__', '__hash__', '__init__', '__init_subclass__', '__ior__', '__iter__', '__le__', '__len__', '__lt__', '__ne__', '__new__', '__or__', '__reduce__', '__reduce_ex__', '__repr__', '__reversed__', '__ror__', '__setattr__', '__setitem__', '__sizeof__', '__str__', '__subclasshook__', 'clear', 'copy', 'fromkeys', 'get', 'items', 'keys', 'pop', 'popitem', 'setdefault', 'update', 'values']\n"
     ]
    }
   ],
   "source": [
    "print(dir(dict))"
   ]
  },
  {
   "cell_type": "code",
   "execution_count": null,
   "id": "2e325c0f",
   "metadata": {},
   "outputs": [],
   "source": [
    "d1 = {\"name\":\"chandra\"}"
   ]
  },
  {
   "cell_type": "code",
   "execution_count": 61,
   "id": "d0463424",
   "metadata": {},
   "outputs": [
    {
     "name": "stdout",
     "output_type": "stream",
     "text": [
      "enter age: 16\n",
      "invalid voter\n"
     ]
    }
   ],
   "source": [
    "age = int(input(\"enter age: \"))\n",
    "result = \"valid voter\" if age >=18 else \"invalid voter\"\n",
    "print(result)"
   ]
  },
  {
   "cell_type": "code",
   "execution_count": 86,
   "id": "fabdd9bd",
   "metadata": {},
   "outputs": [
    {
     "name": "stdout",
     "output_type": "stream",
     "text": [
      "enter marks: 78\n",
      "dist\n"
     ]
    }
   ],
   "source": [
    "num = int(input(\"enter marks: \")) \n",
    "result1 = \"dist\" if num >75 and num <100 else \"fc\"\n",
    "print(result1)"
   ]
  },
  {
   "cell_type": "code",
   "execution_count": 83,
   "id": "94d41eb8",
   "metadata": {},
   "outputs": [
    {
     "name": "stdout",
     "output_type": "stream",
     "text": [
      "1920056\n"
     ]
    }
   ],
   "source": [
    "import sys\n",
    "lie = list(range(240000))\n",
    "print(sys.getsizeof(lie))"
   ]
  },
  {
   "cell_type": "code",
   "execution_count": 94,
   "id": "798ed5bc",
   "metadata": {},
   "outputs": [
    {
     "name": "stdout",
     "output_type": "stream",
     "text": [
      "30\n",
      "29\n",
      "28\n",
      "27\n",
      "26\n",
      "25\n",
      "24\n",
      "23\n",
      "22\n",
      "21\n",
      "20\n",
      "19\n",
      "18\n",
      "17\n",
      "16\n",
      "15\n",
      "14\n",
      "13\n",
      "12\n",
      "11\n",
      "10\n"
     ]
    }
   ],
   "source": [
    "count = 30\n",
    "\n",
    "while count >10:\n",
    "    print(count)\n",
    "    count = count - 1 \n",
    "print(10)    "
   ]
  },
  {
   "cell_type": "code",
   "execution_count": 105,
   "id": "3c0ec83b",
   "metadata": {},
   "outputs": [
    {
     "name": "stdout",
     "output_type": "stream",
     "text": [
      "10\n",
      "11\n",
      "12\n",
      "13\n",
      "14\n",
      "15\n",
      "16\n",
      "17\n",
      "18\n",
      "19\n",
      "20\n",
      "21\n",
      "22\n",
      "23\n",
      "24\n",
      "25\n",
      "26\n",
      "27\n",
      "28\n",
      "29\n",
      "done\n"
     ]
    }
   ],
   "source": [
    "num = 10\n",
    "while num <30:\n",
    "    print(num)\n",
    "    num = num + 1\n",
    "print(\"done\")    "
   ]
  },
  {
   "cell_type": "code",
   "execution_count": 102,
   "id": "bab7fefe",
   "metadata": {},
   "outputs": [
    {
     "name": "stdout",
     "output_type": "stream",
     "text": [
      "hello\n",
      "data\n",
      "world\n"
     ]
    }
   ],
   "source": [
    "stock = [\"hello\",\"data\",\"world\"]\n",
    "for i in stock:\n",
    "    print(i)  "
   ]
  },
  {
   "cell_type": "code",
   "execution_count": 107,
   "id": "0dbc34d7",
   "metadata": {},
   "outputs": [
    {
     "name": "stdout",
     "output_type": "stream",
     "text": [
      "even\n",
      "odd\n",
      "even\n",
      "odd\n",
      "even\n",
      "odd\n",
      "even\n",
      "odd\n",
      "even\n",
      "odd\n",
      "even\n",
      "odd\n",
      "even\n",
      "odd\n",
      "even\n",
      "odd\n",
      "even\n",
      "odd\n",
      "even\n",
      "odd\n"
     ]
    }
   ],
   "source": [
    "for i in range(10,30):\n",
    "    if i%2==0:\n",
    "        print(\"even\")\n",
    "    else:\n",
    "        print(\"odd\")"
   ]
  },
  {
   "cell_type": "code",
   "execution_count": 109,
   "id": "c48d6868",
   "metadata": {},
   "outputs": [
    {
     "name": "stdout",
     "output_type": "stream",
     "text": [
      "['__add__', '__class__', '__contains__', '__delattr__', '__dir__', '__doc__', '__eq__', '__format__', '__ge__', '__getattribute__', '__getitem__', '__getnewargs__', '__gt__', '__hash__', '__init__', '__init_subclass__', '__iter__', '__le__', '__len__', '__lt__', '__mod__', '__mul__', '__ne__', '__new__', '__reduce__', '__reduce_ex__', '__repr__', '__rmod__', '__rmul__', '__setattr__', '__sizeof__', '__str__', '__subclasshook__', 'capitalize', 'casefold', 'center', 'count', 'encode', 'endswith', 'expandtabs', 'find', 'format', 'format_map', 'index', 'isalnum', 'isalpha', 'isascii', 'isdecimal', 'isdigit', 'isidentifier', 'islower', 'isnumeric', 'isprintable', 'isspace', 'istitle', 'isupper', 'join', 'ljust', 'lower', 'lstrip', 'maketrans', 'partition', 'removeprefix', 'removesuffix', 'replace', 'rfind', 'rindex', 'rjust', 'rpartition', 'rsplit', 'rstrip', 'split', 'splitlines', 'startswith', 'strip', 'swapcase', 'title', 'translate', 'upper', 'zfill']\n"
     ]
    }
   ],
   "source": [
    "print(dir(str))"
   ]
  },
  {
   "cell_type": "code",
   "execution_count": 2,
   "id": "e8f54ff8",
   "metadata": {},
   "outputs": [
    {
     "name": "stdout",
     "output_type": "stream",
     "text": [
      "7\n",
      "['1', '2', '3', '4', '4', '5', '6']\n"
     ]
    }
   ],
   "source": [
    "\n",
    "ms1 = \"King Ring Sing1234 Bi456ng Ping\"\n",
    "count = 0\n",
    "uc_list = []\n",
    "for char in ms1:\n",
    "    if char.isdigit()==True:\n",
    "        count = count +1 \n",
    "        uc_list.append(char)\n",
    "\n",
    "print(count)\n",
    "print(uc_list)"
   ]
  },
  {
   "cell_type": "markdown",
   "id": "93cc5853",
   "metadata": {},
   "source": [
    "# dict\n"
   ]
  },
  {
   "cell_type": "code",
   "execution_count": 9,
   "id": "4913874d",
   "metadata": {},
   "outputs": [
    {
     "name": "stdout",
     "output_type": "stream",
     "text": [
      "{'bank': 'sbi', 'branch': 'mgroad', 'city': 'delhi'}\n"
     ]
    }
   ],
   "source": [
    "md1 = {\"bank\":\"sbi\",\"branch\":\"mgroad\",\"city\":\"delhi\",91:\"india\"}\n",
    "md1.pop(91)\n",
    "print(md1)"
   ]
  },
  {
   "cell_type": "code",
   "execution_count": 15,
   "id": "e420a13a",
   "metadata": {},
   "outputs": [
    {
     "name": "stdout",
     "output_type": "stream",
     "text": [
      "dict_items([('bank', 'sbi'), ('branch', 'mgroad'), ('city', 'delhi'), (91, 'india')])\n"
     ]
    }
   ],
   "source": [
    "md1 = {\"bank\":\"sbi\",\"branch\":\"mgroad\",\"city\":\"delhi\",91:\"india\"}\n",
    "a =md1.items()\n",
    "print(a)\n"
   ]
  },
  {
   "cell_type": "code",
   "execution_count": 5,
   "id": "4e363249",
   "metadata": {},
   "outputs": [
    {
     "data": {
      "text/plain": [
       "'delhi'"
      ]
     },
     "execution_count": 5,
     "metadata": {},
     "output_type": "execute_result"
    }
   ],
   "source": [
    "md1 = {\"bank\":\"sbi\",\"branch\":\"mgroad\",\"city\":\"delhi\",91:\"india\"}\n",
    "md1.setdefault(\"city\")"
   ]
  },
  {
   "cell_type": "code",
   "execution_count": 20,
   "id": "92086e2f",
   "metadata": {},
   "outputs": [
    {
     "name": "stdout",
     "output_type": "stream",
     "text": [
      "{'bank': 'axis', 'branch': 'mgroad', 'city': 'delhi', 91: 'india', 'pincode': 500051}\n"
     ]
    }
   ],
   "source": [
    "md1 = {\"bank\":\"sbi\",\"branch\":\"mgroad\",\"city\":\"delhi\",91:\"india\"}\n",
    "md2 = {\"bank\":\"axis\",\"pincode\":500051}\n",
    "md1.update(md2)\n",
    "print(md1)"
   ]
  },
  {
   "cell_type": "code",
   "execution_count": 1,
   "id": "3fcaa1c8",
   "metadata": {},
   "outputs": [
    {
     "name": "stdout",
     "output_type": "stream",
     "text": [
      "<class 'zip'>\n",
      "<zip object at 0x0000027D5C34C740>\n",
      "[('bank', 'icici'), ('branch', 'gandhinagar'), ('city', 'hyderabad')]\n"
     ]
    }
   ],
   "source": [
    "klist = [\"bank\",\"branch\",\"city\"]\n",
    "vlist = [\"icici\",\"gandhinagar\",\"hyderabad\"]\n",
    "z = zip(klist,vlist)\n",
    "print(type(z))\n",
    "print(z)\n",
    "\n",
    "print(list(z)) #zip object are iterables, it is one time readable"
   ]
  },
  {
   "cell_type": "code",
   "execution_count": 23,
   "id": "1c56b536",
   "metadata": {},
   "outputs": [
    {
     "name": "stdout",
     "output_type": "stream",
     "text": [
      "[('bank', 'icici'), ('branch', 'gandhinagar'), ('city', 'hyderabad')]\n"
     ]
    }
   ],
   "source": [
    "klist = [\"bank\",\"branch\",\"city\"]\n",
    "vlist = [\"icici\",\"gandhinagar\",\"hyderabad\"]\n",
    "z = zip(klist,vlist)\n",
    "mylist1 = list(z)\n",
    "print(mylist1)"
   ]
  },
  {
   "cell_type": "code",
   "execution_count": 24,
   "id": "8bd6e908",
   "metadata": {},
   "outputs": [
    {
     "name": "stdout",
     "output_type": "stream",
     "text": [
      "{'bank': 'icici', 'branch': 'gandhinagar', 'city': 'hyderabad'}\n"
     ]
    }
   ],
   "source": [
    "mydict = dict(mylist1)\n",
    "print(mydict)"
   ]
  },
  {
   "cell_type": "code",
   "execution_count": 26,
   "id": "5db69c6b",
   "metadata": {},
   "outputs": [
    {
     "name": "stdout",
     "output_type": "stream",
     "text": [
      "{'bank': 'icici', 'branch': 'gandhinagar', 'city': 'hyderabad'}\n"
     ]
    }
   ],
   "source": [
    "mydict2 = dict(zip(klist,vlist))\n"
   ]
  },
  {
   "cell_type": "code",
   "execution_count": null,
   "id": "ced60632",
   "metadata": {},
   "outputs": [],
   "source": []
  },
  {
   "cell_type": "markdown",
   "id": "e19a0878",
   "metadata": {},
   "source": [
    "# sets"
   ]
  },
  {
   "cell_type": "code",
   "execution_count": 30,
   "id": "40e8d1fd",
   "metadata": {},
   "outputs": [
    {
     "name": "stdout",
     "output_type": "stream",
     "text": [
      "['__and__', '__class__', '__class_getitem__', '__contains__', '__delattr__', '__dir__', '__doc__', '__eq__', '__format__', '__ge__', '__getattribute__', '__gt__', '__hash__', '__iand__', '__init__', '__init_subclass__', '__ior__', '__isub__', '__iter__', '__ixor__', '__le__', '__len__', '__lt__', '__ne__', '__new__', '__or__', '__rand__', '__reduce__', '__reduce_ex__', '__repr__', '__ror__', '__rsub__', '__rxor__', '__setattr__', '__sizeof__', '__str__', '__sub__', '__subclasshook__', '__xor__', 'add', 'clear', 'copy', 'difference', 'difference_update', 'discard', 'intersection', 'intersection_update', 'isdisjoint', 'issubset', 'issuperset', 'pop', 'remove', 'symmetric_difference', 'symmetric_difference_update', 'union', 'update']\n"
     ]
    }
   ],
   "source": [
    "print(dir(set))"
   ]
  },
  {
   "cell_type": "code",
   "execution_count": 8,
   "id": "23b17249",
   "metadata": {},
   "outputs": [
    {
     "name": "stdout",
     "output_type": "stream",
     "text": [
      "['c', 'h', 'a', 'n', 'd', 'r', 'a']\n",
      "['d', 'c', 'a', 'r', 'h', 'n']\n",
      "<class 'list'>\n"
     ]
    }
   ],
   "source": [
    "ds = list(\"chandra\")\n",
    "print(ds)\n",
    "ds1 = list(set(ds))\n",
    "print(ds1)\n",
    "print(type(ds1))"
   ]
  },
  {
   "cell_type": "code",
   "execution_count": 1,
   "id": "2098bd2f",
   "metadata": {},
   "outputs": [
    {
     "name": "stdout",
     "output_type": "stream",
     "text": [
      "['We', 'shall', 'analyse', 'the', 'data', 'using', 'python']\n",
      "38\n"
     ]
    }
   ],
   "source": [
    "sentence_1 = 'We shall analyse the data using python'\n",
    "\n",
    "sentence_2 = 'Python for data science'\n",
    "c = sentence_1.split()\n",
    "print(c)\n",
    "d =list(sentence_1)\n",
    "print(len(d))\n"
   ]
  },
  {
   "cell_type": "code",
   "execution_count": 41,
   "id": "85c5034f",
   "metadata": {},
   "outputs": [
    {
     "name": "stdout",
     "output_type": "stream",
     "text": [
      "{'analyse', 'shall', 'python', 'data', 'We', 'the', 'using'}\n",
      "7\n",
      "{'data', 'science', 'Python', 'for'}\n",
      "4\n"
     ]
    }
   ],
   "source": [
    "sentence_1 = 'We shall analyse the data using python'\n",
    "sentence_2 = 'Python for data science'\n",
    "unique_words1 = set(sentence_1.split())\n",
    "print(unique_words)\n",
    "length = len(unique_words)\n",
    "print(length)\n",
    "unique_words2 = set(sentence_2.split())\n",
    "print(unique_words2)\n",
    "length1 = len(unique_words2)\n",
    "print(length1)\n"
   ]
  },
  {
   "cell_type": "code",
   "execution_count": 52,
   "id": "26d9e21e",
   "metadata": {},
   "outputs": [
    {
     "name": "stdout",
     "output_type": "stream",
     "text": [
      "hello 51\n"
     ]
    }
   ],
   "source": [
    "def ms1(p0,p1):\n",
    "    print(p0,p1)\n",
    "    return\n",
    "ms1(\"hello\",p1=51)    "
   ]
  },
  {
   "cell_type": "code",
   "execution_count": 43,
   "id": "13e7524d",
   "metadata": {},
   "outputs": [
    {
     "name": "stdout",
     "output_type": "stream",
     "text": [
      "['ArithmeticError', 'AssertionError', 'AttributeError', 'BaseException', 'BlockingIOError', 'BrokenPipeError', 'BufferError', 'BytesWarning', 'ChildProcessError', 'ConnectionAbortedError', 'ConnectionError', 'ConnectionRefusedError', 'ConnectionResetError', 'DeprecationWarning', 'EOFError', 'Ellipsis', 'EnvironmentError', 'Exception', 'False', 'FileExistsError', 'FileNotFoundError', 'FloatingPointError', 'FutureWarning', 'GeneratorExit', 'IOError', 'ImportError', 'ImportWarning', 'IndentationError', 'IndexError', 'InterruptedError', 'IsADirectoryError', 'KeyError', 'KeyboardInterrupt', 'LookupError', 'MemoryError', 'ModuleNotFoundError', 'NameError', 'None', 'NotADirectoryError', 'NotImplemented', 'NotImplementedError', 'OSError', 'OverflowError', 'PendingDeprecationWarning', 'PermissionError', 'ProcessLookupError', 'RecursionError', 'ReferenceError', 'ResourceWarning', 'RuntimeError', 'RuntimeWarning', 'StopAsyncIteration', 'StopIteration', 'SyntaxError', 'SyntaxWarning', 'SystemError', 'SystemExit', 'TabError', 'TimeoutError', 'True', 'TypeError', 'UnboundLocalError', 'UnicodeDecodeError', 'UnicodeEncodeError', 'UnicodeError', 'UnicodeTranslateError', 'UnicodeWarning', 'UserWarning', 'ValueError', 'Warning', 'WindowsError', 'ZeroDivisionError', '__IPYTHON__', '__build_class__', '__debug__', '__doc__', '__import__', '__loader__', '__name__', '__package__', '__spec__', 'abs', 'all', 'any', 'ascii', 'bin', 'bool', 'breakpoint', 'bytearray', 'bytes', 'callable', 'chr', 'classmethod', 'compile', 'complex', 'copyright', 'credits', 'delattr', 'dict', 'dir', 'display', 'divmod', 'enumerate', 'eval', 'exec', 'execfile', 'filter', 'float', 'format', 'frozenset', 'get_ipython', 'getattr', 'globals', 'hasattr', 'hash', 'help', 'hex', 'id', 'input', 'int', 'isinstance', 'issubclass', 'iter', 'len', 'license', 'list', 'locals', 'map', 'max', 'memoryview', 'min', 'next', 'object', 'oct', 'open', 'ord', 'pow', 'print', 'property', 'range', 'repr', 'reversed', 'round', 'runfile', 'set', 'setattr', 'slice', 'sorted', 'staticmethod', 'str', 'sum', 'super', 'tuple', 'type', 'vars', 'zip']\n"
     ]
    }
   ],
   "source": [
    "print(dir(__builtins__))"
   ]
  },
  {
   "cell_type": "code",
   "execution_count": 59,
   "id": "62284aff",
   "metadata": {},
   "outputs": [
    {
     "name": "stdout",
     "output_type": "stream",
     "text": [
      "goutham shashi\n"
     ]
    }
   ],
   "source": [
    "# swapping the parameter values\n",
    "\n",
    "def m2(name1=\"shashi\",name2=\"goutham\"):\n",
    "    print(name1,name2)\n",
    "    return \n",
    "m2(\"goutham\",\"shashi\")"
   ]
  },
  {
   "cell_type": "code",
   "execution_count": 62,
   "id": "83659aa9",
   "metadata": {},
   "outputs": [
    {
     "name": "stdout",
     "output_type": "stream",
     "text": [
      "35 33\n"
     ]
    }
   ],
   "source": [
    "#positional arguments\n",
    "def m3(p0,p1=222):\n",
    "    print(p0,p1)\n",
    "    return \n",
    "m3(35,33)"
   ]
  },
  {
   "cell_type": "code",
   "execution_count": 63,
   "id": "b63ea9fc",
   "metadata": {},
   "outputs": [
    {
     "ename": "SyntaxError",
     "evalue": "non-default argument follows default argument (4044600743.py, line 2)",
     "output_type": "error",
     "traceback": [
      "\u001b[1;36m  Input \u001b[1;32mIn [63]\u001b[1;36m\u001b[0m\n\u001b[1;33m    def m3(p0=22,p1):\u001b[0m\n\u001b[1;37m                   ^\u001b[0m\n\u001b[1;31mSyntaxError\u001b[0m\u001b[1;31m:\u001b[0m non-default argument follows default argument\n"
     ]
    }
   ],
   "source": [
    "#non default argument\n",
    "def m3(p0=22,p1):\n",
    "    print(p0,p1)\n",
    "    return \n",
    "m3(35,33)"
   ]
  },
  {
   "cell_type": "code",
   "execution_count": 65,
   "id": "60d83ab0",
   "metadata": {},
   "outputs": [
    {
     "name": "stdout",
     "output_type": "stream",
     "text": [
      "(1, 2, 3, 4)\n"
     ]
    }
   ],
   "source": [
    "def m4(*args):\n",
    "    print(args)\n",
    "    return\n",
    "m4(1,2,3,4)"
   ]
  },
  {
   "cell_type": "code",
   "execution_count": null,
   "id": "b1c40669",
   "metadata": {},
   "outputs": [],
   "source": []
  },
  {
   "cell_type": "code",
   "execution_count": 93,
   "id": "8e4a31cb",
   "metadata": {},
   "outputs": [],
   "source": [
    "def l4(p0,p1,p2,*args,**kwargs):\n",
    "    print(p0)\n",
    "    print(p1)\n",
    "    print(p2)\n",
    "    print(args)\n",
    "    print(kwargs)\n",
    "    \n",
    "    "
   ]
  },
  {
   "cell_type": "code",
   "execution_count": 94,
   "id": "23b9ecfb",
   "metadata": {},
   "outputs": [
    {
     "name": "stdout",
     "output_type": "stream",
     "text": [
      "22\n",
      "33\n",
      "44\n",
      "(55, 443, 564, 'hey')\n",
      "{'a': 200, 'b': 300}\n"
     ]
    }
   ],
   "source": [
    "l4(22,33,44,55,443,564,\"hey\",a=200,b=300)"
   ]
  },
  {
   "cell_type": "code",
   "execution_count": 95,
   "id": "261988b0",
   "metadata": {},
   "outputs": [],
   "source": [
    "def d5(*args,p0,p1,p2):\n",
    "    print(args)\n",
    "    print(p0)\n",
    "    print(p1)\n",
    "    print(p2)"
   ]
  },
  {
   "cell_type": "code",
   "execution_count": 97,
   "id": "5fe492a0",
   "metadata": {},
   "outputs": [
    {
     "name": "stdout",
     "output_type": "stream",
     "text": [
      "(11, 34, 54, 657, 7676)\n",
      "22\n",
      "14\n",
      "45\n"
     ]
    }
   ],
   "source": [
    "d5(11,34,54,657,7676,p0=22,p1=14,p2=45)"
   ]
  },
  {
   "cell_type": "code",
   "execution_count": 3,
   "id": "a4ca92c4",
   "metadata": {},
   "outputs": [
    {
     "name": "stdout",
     "output_type": "stream",
     "text": [
      "15\n"
     ]
    }
   ],
   "source": [
    "a=lambda a : a + 10\n",
    "print(a(5))"
   ]
  },
  {
   "cell_type": "code",
   "execution_count": 109,
   "id": "cefe17ac",
   "metadata": {},
   "outputs": [
    {
     "data": {
      "text/plain": [
       "<function __main__.<lambda>(argument)>"
      ]
     },
     "execution_count": 109,
     "metadata": {},
     "output_type": "execute_result"
    }
   ],
   "source": [
    "lambda argument : expression "
   ]
  },
  {
   "cell_type": "code",
   "execution_count": 115,
   "id": "b8bb507c",
   "metadata": {},
   "outputs": [
    {
     "name": "stdout",
     "output_type": "stream",
     "text": [
      "30\n"
     ]
    }
   ],
   "source": [
    "add2nums = lambda x,y : x+y\n",
    "print(add2nums(10,20))"
   ]
  },
  {
   "cell_type": "code",
   "execution_count": 112,
   "id": "1691ccc4",
   "metadata": {},
   "outputs": [
    {
     "name": "stdout",
     "output_type": "stream",
     "text": [
      "True\n"
     ]
    }
   ],
   "source": [
    "a = lambda x: True if x%2==0 else False\n",
    "print(a(22)) "
   ]
  },
  {
   "cell_type": "code",
   "execution_count": 124,
   "id": "9b3fda18",
   "metadata": {},
   "outputs": [],
   "source": [
    "# writing code in a tradition way\n",
    "def weather(temp):\n",
    "    if temp >70:\n",
    "        return \"hot\"\n",
    "    if temp <30:\n",
    "        return \"cool\"\n",
    "    else:\n",
    "        return \"warm\""
   ]
  },
  {
   "cell_type": "code",
   "execution_count": 125,
   "id": "91f3155d",
   "metadata": {},
   "outputs": [
    {
     "data": {
      "text/plain": [
       "'warm'"
      ]
     },
     "execution_count": 125,
     "metadata": {},
     "output_type": "execute_result"
    }
   ],
   "source": [
    "weather(35)"
   ]
  },
  {
   "cell_type": "code",
   "execution_count": 126,
   "id": "6ce1c4a4",
   "metadata": {},
   "outputs": [
    {
     "name": "stdout",
     "output_type": "stream",
     "text": [
      "hot\n",
      "warm\n",
      "cool\n"
     ]
    }
   ],
   "source": [
    "# writing statement in one line\n",
    "\n",
    "a = lambda temp: \"hot\" if temp >70 else \"cool\" if temp <30 else  \"warm\" \n",
    "print(a(75))\n",
    "print(a(40))\n",
    "print(a(12))"
   ]
  },
  {
   "cell_type": "code",
   "execution_count": 130,
   "id": "788ab37e",
   "metadata": {},
   "outputs": [
    {
     "name": "stdout",
     "output_type": "stream",
     "text": [
      "passed\n"
     ]
    }
   ],
   "source": [
    "bn = 75\n",
    "bn = \"top score\" if bn >80 else \"fail\" if bn <35 else \"passed\"\n",
    "print(bn)"
   ]
  },
  {
   "cell_type": "code",
   "execution_count": 143,
   "id": "b89f518e",
   "metadata": {},
   "outputs": [
    {
     "name": "stdout",
     "output_type": "stream",
     "text": [
      "[200, 400, 500, 600]\n"
     ]
    }
   ],
   "source": [
    "mlist = [2,4,5,6]\n",
    "cm = map(lambda m: m * 100,mlist)\n",
    "print(list(cm))"
   ]
  },
  {
   "cell_type": "code",
   "execution_count": 159,
   "id": "9b973ee9",
   "metadata": {},
   "outputs": [],
   "source": [
    "fb= [0,1,2,3,4,\"a\",5,\"if\",{\"name\":\"shashi\"},[11,22,33,0],123]\n",
    "fb.sort(key=lambda ob : ob if isinstance(ob,int) else len(ob) if isinstance(ob,str,) else 100)"
   ]
  },
  {
   "cell_type": "code",
   "execution_count": 160,
   "id": "6f978d74",
   "metadata": {},
   "outputs": [
    {
     "name": "stdout",
     "output_type": "stream",
     "text": [
      "[0, 1, 'a', 2, 'if', 3, 4, 5, {'name': 'shashi'}, [11, 22, 33, 0], 123]\n"
     ]
    }
   ],
   "source": [
    "print(fb)"
   ]
  },
  {
   "cell_type": "code",
   "execution_count": 167,
   "id": "34833b16",
   "metadata": {},
   "outputs": [
    {
     "name": "stdout",
     "output_type": "stream",
     "text": [
      "[32, 35, 37]\n"
     ]
    }
   ],
   "source": [
    "vlist = [2,5,7]\n",
    "blist = map(lambda x : x +5 * 6, vlist)\n",
    "print(list(blist))"
   ]
  },
  {
   "cell_type": "code",
   "execution_count": 168,
   "id": "5e28bb70",
   "metadata": {},
   "outputs": [
    {
     "name": "stdout",
     "output_type": "stream",
     "text": [
      "30\n"
     ]
    }
   ],
   "source": [
    "print(5*6)"
   ]
  },
  {
   "cell_type": "code",
   "execution_count": 3,
   "id": "6959ac27",
   "metadata": {},
   "outputs": [
    {
     "name": "stdout",
     "output_type": "stream",
     "text": [
      "[1, 4, 7, 10, 13, 16, 19, 22, 25, 28]\n",
      "[4, 10, 16, 22, 28]\n",
      "[]\n"
     ]
    }
   ],
   "source": [
    "kk = list(range(1,30,3))\n",
    "print(kk)\n",
    "\n",
    "ff = filter(lambda val : val%2==0 ,kk)\n",
    "print(list(ff))\n",
    "print(list(ff))"
   ]
  },
  {
   "cell_type": "code",
   "execution_count": 182,
   "id": "8a0c2e46",
   "metadata": {},
   "outputs": [
    {
     "name": "stdout",
     "output_type": "stream",
     "text": [
      "[1, 4, 7, 10, 13, 16, 19, 22, 25, 28]\n",
      "[1, 4, 7, 10, 13, 16, 19, 22, 25, 28]\n"
     ]
    }
   ],
   "source": [
    "kf = list(range(1,30,3))\n",
    "print(list(kf))\n",
    "print(list(kf))\n"
   ]
  },
  {
   "cell_type": "markdown",
   "id": "01fde6c9",
   "metadata": {},
   "source": [
    "# reduce"
   ]
  },
  {
   "cell_type": "code",
   "execution_count": 183,
   "id": "f55ea2f6",
   "metadata": {},
   "outputs": [],
   "source": [
    "import functools"
   ]
  },
  {
   "cell_type": "code",
   "execution_count": 184,
   "id": "0a99eb47",
   "metadata": {},
   "outputs": [
    {
     "name": "stdout",
     "output_type": "stream",
     "text": [
      "30\n"
     ]
    }
   ],
   "source": [
    "jl = [2,4,6,8,10]\n",
    "jk = functools.reduce(lambda x,y:x+y,jl)\n",
    "print(jk)"
   ]
  },
  {
   "cell_type": "markdown",
   "id": "f01fe7ef",
   "metadata": {},
   "source": [
    "# accumulate"
   ]
  },
  {
   "cell_type": "code",
   "execution_count": 3,
   "id": "a8655cfe",
   "metadata": {},
   "outputs": [],
   "source": [
    "import itertools"
   ]
  },
  {
   "cell_type": "code",
   "execution_count": 10,
   "id": "8a18fe1a",
   "metadata": {},
   "outputs": [
    {
     "name": "stdout",
     "output_type": "stream",
     "text": [
      "<itertools.accumulate object at 0x0000027D5E6BBD80>\n",
      "[2, 4, 6, 8, 10]\n",
      "10\n"
     ]
    }
   ],
   "source": [
    "jh = [2,4,6,8,10]\n",
    "ja = itertools.accumulate(jh,lambda x,y:x if x>y else y)\n",
    "print(ja)\n",
    "ilist = list(ja)\n",
    "print(ilist)\n",
    "print(ilist[-1])"
   ]
  },
  {
   "cell_type": "code",
   "execution_count": 197,
   "id": "3d2bb468",
   "metadata": {},
   "outputs": [
    {
     "ename": "ValueError",
     "evalue": "too many values to unpack (expected 2)",
     "output_type": "error",
     "traceback": [
      "\u001b[1;31m---------------------------------------------------------------------------\u001b[0m",
      "\u001b[1;31mValueError\u001b[0m                                Traceback (most recent call last)",
      "Input \u001b[1;32mIn [197]\u001b[0m, in \u001b[0;36m<cell line: 1>\u001b[1;34m()\u001b[0m\n\u001b[1;32m----> 1\u001b[0m a,b \u001b[38;5;241m=\u001b[39m \u001b[38;5;241m10\u001b[39m,\u001b[38;5;241m2\u001b[39m,\u001b[38;5;241m3\u001b[39m\n\u001b[0;32m      2\u001b[0m \u001b[38;5;28mprint\u001b[39m(a,b)\n",
      "\u001b[1;31mValueError\u001b[0m: too many values to unpack (expected 2)"
     ]
    }
   ],
   "source": [
    "a,b = 10,2,3\n",
    "print(a,b)"
   ]
  },
  {
   "cell_type": "code",
   "execution_count": 198,
   "id": "a73e06fe",
   "metadata": {},
   "outputs": [
    {
     "name": "stdout",
     "output_type": "stream",
     "text": [
      "4\n",
      "2\n"
     ]
    }
   ],
   "source": [
    "a,b = 2,4\n",
    "a,b =b,a\n",
    "print(a)\n",
    "print(b)"
   ]
  },
  {
   "cell_type": "code",
   "execution_count": 199,
   "id": "4590caef",
   "metadata": {},
   "outputs": [],
   "source": [
    "## iterator is one time \n",
    "## iterable is as many as times"
   ]
  },
  {
   "cell_type": "code",
   "execution_count": 7,
   "id": "8a3e54c9",
   "metadata": {},
   "outputs": [
    {
     "data": {
      "text/plain": [
       "[1, 4, 27, 16, 125, 36, 343]"
      ]
     },
     "execution_count": 7,
     "metadata": {},
     "output_type": "execute_result"
    }
   ],
   "source": [
    "squares = [ i**2 if i%2==0 else i**3 for i in range(1,8) ]\n",
    "squares"
   ]
  },
  {
   "cell_type": "code",
   "execution_count": 13,
   "id": "5ab2c622",
   "metadata": {},
   "outputs": [
    {
     "name": "stdout",
     "output_type": "stream",
     "text": [
      "[36.111111111111114, 36.38888888888889, 36.77777777777778, 37.22222222222222]\n"
     ]
    }
   ],
   "source": [
    "clist = [ (i-32)*(5/9)    for i in [97,97.5,98.2,99]   ]\n",
    "print(clist)"
   ]
  },
  {
   "cell_type": "code",
   "execution_count": 14,
   "id": "06713959",
   "metadata": {},
   "outputs": [],
   "source": [
    "import random "
   ]
  },
  {
   "cell_type": "code",
   "execution_count": 19,
   "id": "27d19988",
   "metadata": {},
   "outputs": [
    {
     "name": "stdout",
     "output_type": "stream",
     "text": [
      "[30, 25, 10, 29, 27, 3, 1, 19, 10, 14, 13, 17, 12, 5, 24, 7, 9, 15, 1, 8, 20, 15, 29, 1, 4, 3, 23, 16, 14, 1]\n"
     ]
    }
   ],
   "source": [
    "random.seed(23)\n",
    "rlist = [random.randint(1,30)        for i in range(30)        ]\n",
    "print(rlist)"
   ]
  },
  {
   "cell_type": "code",
   "execution_count": 26,
   "id": "3426a6cc",
   "metadata": {},
   "outputs": [
    {
     "data": {
      "text/plain": [
       "[0, 2, 4, 6, 8, 10, 12, 14, 16, 18, 20, 22, 24, 26, 28]"
      ]
     },
     "execution_count": 26,
     "metadata": {},
     "output_type": "execute_result"
    }
   ],
   "source": [
    "\n",
    "elist = [ i for i in range(30) if i%2==0         ]\n",
    "elist"
   ]
  },
  {
   "cell_type": "code",
   "execution_count": 33,
   "id": "1ec438cf",
   "metadata": {},
   "outputs": [
    {
     "name": "stdout",
     "output_type": "stream",
     "text": [
      "[(3, 3, 27), (6, 2, 36), (9, 3, 729), (12, 2, 144), (15, 3, 3375), (18, 2, 324)]\n"
     ]
    }
   ],
   "source": [
    "nlist = [(i,2,i**2) if i%2==0 else (i,3,i**3)  for i in range(1,20) if i%3==0   ]\n",
    "print(nlist)"
   ]
  },
  {
   "cell_type": "code",
   "execution_count": 38,
   "id": "2be51dd2",
   "metadata": {},
   "outputs": [
    {
     "data": {
      "text/plain": [
       "[(0, 2, 0), (3, 3, 27), (6, 2, 36), (9, 3, 729)]"
      ]
     },
     "execution_count": 38,
     "metadata": {},
     "output_type": "execute_result"
    }
   ],
   "source": [
    "jlist = [ (i,2,i**2) if i%2==0 else (i,3,i**3)    for i in range(11) if i%3==0      ]\n",
    "jlist"
   ]
  },
  {
   "cell_type": "code",
   "execution_count": 39,
   "id": "5ac4ff02",
   "metadata": {},
   "outputs": [
    {
     "data": {
      "text/plain": [
       "[('u1', 'p2'), ('u1', 'p3'), ('u3', 'p2'), ('u3', 'p3')]"
      ]
     },
     "execution_count": 39,
     "metadata": {},
     "output_type": "execute_result"
    }
   ],
   "source": [
    "zlist = [\"u1\",\"u2\",\"u3\"]\n",
    "vlist = [\"p1\",\"p2\",\"p3\"]\n",
    "\n",
    "glist = [ (z,v)    for z in zlist if z !=\"u2\" for v in vlist if v!=\"p1\"            ]\n",
    "glist"
   ]
  },
  {
   "cell_type": "code",
   "execution_count": 3,
   "id": "7ddb8e4a",
   "metadata": {},
   "outputs": [
    {
     "name": "stdout",
     "output_type": "stream",
     "text": [
      "5 * 1 = 5\n",
      "5 * 2 = 10\n",
      "5 * 3 = 15\n",
      "5 * 4 = 20\n",
      "5 * 6 = 30\n",
      "5 * 7 = 35\n",
      "5 * 8 = 40\n",
      "5 * 9 = 45\n",
      "5 * 10 = 50\n",
      "6 * 1 = 6\n",
      "6 * 2 = 12\n",
      "6 * 3 = 18\n",
      "6 * 4 = 24\n",
      "6 * 6 = 36\n",
      "6 * 7 = 42\n",
      "6 * 8 = 48\n",
      "6 * 9 = 54\n",
      "6 * 10 = 60\n",
      "8 * 1 = 8\n",
      "8 * 2 = 16\n",
      "8 * 3 = 24\n",
      "8 * 4 = 32\n",
      "8 * 6 = 48\n",
      "8 * 7 = 56\n",
      "8 * 8 = 64\n",
      "8 * 9 = 72\n",
      "8 * 10 = 80\n",
      "9 * 1 = 9\n",
      "9 * 2 = 18\n",
      "9 * 3 = 27\n",
      "9 * 4 = 36\n",
      "9 * 6 = 54\n",
      "9 * 7 = 63\n",
      "9 * 8 = 72\n",
      "9 * 9 = 81\n",
      "9 * 10 = 90\n",
      "10 * 1 = 10\n",
      "10 * 2 = 20\n",
      "10 * 3 = 30\n",
      "10 * 4 = 40\n",
      "10 * 6 = 60\n",
      "10 * 7 = 70\n",
      "10 * 8 = 80\n",
      "10 * 9 = 90\n",
      "10 * 10 = 100\n"
     ]
    }
   ],
   "source": [
    "mlist = [ \"{} * {} = {}\".format(a,m,a*m)           for a in range(5,11) if a !=7 for m in range(1,11) if m != 5 ]\n",
    "print(*mlist,sep=\"\\n\")"
   ]
  },
  {
   "cell_type": "code",
   "execution_count": 40,
   "id": "be2331c6",
   "metadata": {},
   "outputs": [
    {
     "name": "stdout",
     "output_type": "stream",
     "text": [
      "Help on built-in function format in module builtins:\n",
      "\n",
      "format(value, format_spec='', /)\n",
      "    Return value.__format__(format_spec)\n",
      "    \n",
      "    format_spec defaults to the empty string.\n",
      "    See the Format Specification Mini-Language section of help('FORMATTING') for\n",
      "    details.\n",
      "\n"
     ]
    }
   ],
   "source": [
    "help(format)"
   ]
  },
  {
   "cell_type": "code",
   "execution_count": 51,
   "id": "12208649",
   "metadata": {},
   "outputs": [
    {
     "name": "stdout",
     "output_type": "stream",
     "text": [
      "1\n",
      "2\n",
      "3\n",
      "4\n",
      "5\n"
     ]
    }
   ],
   "source": [
    "a = 1,2,3,4,5\n",
    "print(*a,sep=\"\\n\")"
   ]
  },
  {
   "cell_type": "markdown",
   "id": "cd7c25b9",
   "metadata": {},
   "source": [
    "# set comprehension"
   ]
  },
  {
   "cell_type": "code",
   "execution_count": 56,
   "id": "0d0c00da",
   "metadata": {},
   "outputs": [
    {
     "data": {
      "text/plain": [
       "[0, 1, 2, 0, 1, 2, 0, 1, 2, 0, 1, 2, 0, 1, 2, 0, 1, 2, 0, 1]"
      ]
     },
     "execution_count": 56,
     "metadata": {},
     "output_type": "execute_result"
    }
   ],
   "source": [
    "mylist = [ n%3 for n in range(20)]\n",
    "mylist"
   ]
  },
  {
   "cell_type": "code",
   "execution_count": 59,
   "id": "2a9e08de",
   "metadata": {},
   "outputs": [
    {
     "data": {
      "text/plain": [
       "{0, 1, 2, 3, 4}"
      ]
     },
     "execution_count": 59,
     "metadata": {},
     "output_type": "execute_result"
    }
   ],
   "source": [
    "myset = { n % 5 for n in range(20)}\n",
    "myset "
   ]
  },
  {
   "cell_type": "code",
   "execution_count": 58,
   "id": "28ee593d",
   "metadata": {},
   "outputs": [
    {
     "name": "stdout",
     "output_type": "stream",
     "text": [
      "[1, 2, 3, 4, 6, 8, 12, 24, 1, 2, 4, 8, 16, 32, 1, 2, 3, 4, 6, 9, 12, 18, 36, 1, 2, 3, 4, 6, 8, 12, 16, 24, 48]\n"
     ]
    }
   ],
   "source": [
    "numlist = [24,32,36,48]\n",
    "factor = [ divisor for n in numlist for divisor in range (1,n+1) if n%divisor == 0]\n",
    "print(factor)"
   ]
  },
  {
   "cell_type": "code",
   "execution_count": 60,
   "id": "c42f9d5a",
   "metadata": {},
   "outputs": [
    {
     "name": "stdout",
     "output_type": "stream",
     "text": [
      "{(5, 'odd'), (2, 'even'), (1, 'odd'), (8, 'even'), (6, 'even'), (9, 'odd'), (7, 'odd'), (4, 'even'), (3, 'odd'), (0, 'even')}\n"
     ]
    }
   ],
   "source": [
    "mydict = { (i,\"even\") if i%2==0 else (i,\"odd\")  for i in range(10)}\n",
    "print(mydict)"
   ]
  },
  {
   "cell_type": "code",
   "execution_count": 84,
   "id": "03438917",
   "metadata": {},
   "outputs": [
    {
     "name": "stdout",
     "output_type": "stream",
     "text": [
      "debug0 12 14 212 255 837\n",
      "{'v1': 212, 'v2': 255, 'v3': 837}\n",
      "debug1 12 14\n"
     ]
    }
   ],
   "source": [
    "g1 =12\n",
    "g2 =14 \n",
    "\n",
    "def kal(v1,v2=255):\n",
    "    v3 = 837\n",
    "    print(\"debug0\",g1,g2,v1,v2,v3)\n",
    "    local_functions = locals()\n",
    "    print(local_functions)\n",
    "    return None\n",
    "kal(212)\n",
    "print(\"debug1\",g1,g2)\n",
    "\n"
   ]
  },
  {
   "cell_type": "markdown",
   "id": "f9e072d0",
   "metadata": {},
   "source": [
    "# multiple returns"
   ]
  },
  {
   "cell_type": "code",
   "execution_count": 92,
   "id": "8cff1423",
   "metadata": {},
   "outputs": [
    {
     "data": {
      "text/plain": [
       "(35, 300, 5)"
      ]
     },
     "execution_count": 92,
     "metadata": {},
     "output_type": "execute_result"
    }
   ],
   "source": [
    "def mycalci(n0,n1):\n",
    "    s = n0+n1\n",
    "    p = n0*n1\n",
    "    d = n0 - n1 if n0 > n1 else n1-n0\n",
    "    return s,p,d\n",
    "mycalci(15,20)"
   ]
  },
  {
   "cell_type": "code",
   "execution_count": null,
   "id": "859a0f51",
   "metadata": {},
   "outputs": [],
   "source": [
    "def fact(n):\n",
    "    if n == 0 :\n",
    "        return 1\n",
    "    return n * fact(n+1)\n",
    "fact(5)"
   ]
  },
  {
   "cell_type": "code",
   "execution_count": 99,
   "id": "bedbf2f6",
   "metadata": {},
   "outputs": [
    {
     "name": "stdout",
     "output_type": "stream",
     "text": [
      "nohtyp\n"
     ]
    }
   ],
   "source": [
    "str2 = \"python\"\n",
    "str3 = \"\"\n",
    "for i in str2:\n",
    "    str3 = i + str3\n",
    "print(str3)"
   ]
  },
  {
   "cell_type": "code",
   "execution_count": 101,
   "id": "4e991496",
   "metadata": {},
   "outputs": [
    {
     "name": "stdout",
     "output_type": "stream",
     "text": [
      "True\n"
     ]
    }
   ],
   "source": [
    "a,b = 1000,1000\n",
    "print(a is b )"
   ]
  },
  {
   "cell_type": "code",
   "execution_count": 107,
   "id": "783c00e4",
   "metadata": {},
   "outputs": [
    {
     "name": "stdout",
     "output_type": "stream",
     "text": [
      "13:0110\n",
      "06:0110\n",
      "04:0100\n",
      "15:1111\n",
      "11:1011\n"
     ]
    }
   ],
   "source": [
    "a = 13\n",
    "b = 6\n",
    "\n",
    "print(\"{:02d}:{:04b}\".format(a,b))\n",
    "print(\"{:02d}:{:04b}\".format(b,b))\n",
    "print(\"{:02d}:{:04b}\".format(a&b,b&a))\n",
    "print(\"{:02d}:{:04b}\".format(a|b,a|b))\n",
    "print(\"{:02d}:{:04b}\".format(a^b,a^b))"
   ]
  },
  {
   "cell_type": "code",
   "execution_count": null,
   "id": "bc1907cd",
   "metadata": {},
   "outputs": [],
   "source": []
  },
  {
   "cell_type": "code",
   "execution_count": 17,
   "id": "239b992f",
   "metadata": {},
   "outputs": [
    {
     "data": {
      "text/plain": [
       "[2, 12, 33, 44, 55, 66]"
      ]
     },
     "execution_count": 17,
     "metadata": {},
     "output_type": "execute_result"
    }
   ],
   "source": [
    "a = [12,33,44,55,66]\n",
    "a.insert(0,2)\n",
    "a"
   ]
  },
  {
   "cell_type": "code",
   "execution_count": 70,
   "id": "f7a5e030",
   "metadata": {},
   "outputs": [
    {
     "name": "stdout",
     "output_type": "stream",
     "text": [
      "{'a': 'name', 'b': 'age'}\n",
      "{'c': 'class', 'd': 'grade'}\n"
     ]
    }
   ],
   "source": [
    "t = {1:{\"a\":\"name\",\"b\":\"age\"},\n",
    "    2:{\"c\":\"class\",\"d\":\"grade\"}}\n",
    "for i in t.values():\n",
    "    print(i)"
   ]
  },
  {
   "cell_type": "code",
   "execution_count": 26,
   "id": "26effd53",
   "metadata": {},
   "outputs": [
    {
     "name": "stdout",
     "output_type": "stream",
     "text": [
      "['__class__', '__class_getitem__', '__contains__', '__delattr__', '__delitem__', '__dir__', '__doc__', '__eq__', '__format__', '__ge__', '__getattribute__', '__getitem__', '__gt__', '__hash__', '__init__', '__init_subclass__', '__ior__', '__iter__', '__le__', '__len__', '__lt__', '__ne__', '__new__', '__or__', '__reduce__', '__reduce_ex__', '__repr__', '__reversed__', '__ror__', '__setattr__', '__setitem__', '__sizeof__', '__str__', '__subclasshook__', 'clear', 'copy', 'fromkeys', 'get', 'items', 'keys', 'pop', 'popitem', 'setdefault', 'update', 'values']\n"
     ]
    }
   ],
   "source": [
    "print(dir(dict))"
   ]
  },
  {
   "cell_type": "code",
   "execution_count": 53,
   "id": "21a901c9",
   "metadata": {},
   "outputs": [
    {
     "name": "stdout",
     "output_type": "stream",
     "text": [
      "{}\n"
     ]
    }
   ],
   "source": [
    "fn ={}\n",
    "fn.get(\"i\")\n",
    "print(fn)"
   ]
  },
  {
   "cell_type": "code",
   "execution_count": 59,
   "id": "7f41acab",
   "metadata": {},
   "outputs": [
    {
     "data": {
      "text/plain": [
       "{1: None, 2: None, 3: None}"
      ]
     },
     "execution_count": 59,
     "metadata": {},
     "output_type": "execute_result"
    }
   ],
   "source": [
    "n = {}\n",
    "j = [1,2,3]\n",
    "n.fromkeys(j)"
   ]
  },
  {
   "cell_type": "code",
   "execution_count": 68,
   "id": "970b2352",
   "metadata": {},
   "outputs": [
    {
     "name": "stdout",
     "output_type": "stream",
     "text": [
      "['__and__', '__class__', '__class_getitem__', '__contains__', '__delattr__', '__dir__', '__doc__', '__eq__', '__format__', '__ge__', '__getattribute__', '__gt__', '__hash__', '__iand__', '__init__', '__init_subclass__', '__ior__', '__isub__', '__iter__', '__ixor__', '__le__', '__len__', '__lt__', '__ne__', '__new__', '__or__', '__rand__', '__reduce__', '__reduce_ex__', '__repr__', '__ror__', '__rsub__', '__rxor__', '__setattr__', '__sizeof__', '__str__', '__sub__', '__subclasshook__', '__xor__', 'add', 'clear', 'copy', 'difference', 'difference_update', 'discard', 'intersection', 'intersection_update', 'isdisjoint', 'issubset', 'issuperset', 'pop', 'remove', 'symmetric_difference', 'symmetric_difference_update', 'union', 'update']\n"
     ]
    }
   ],
   "source": [
    "print(dir(set))"
   ]
  },
  {
   "cell_type": "code",
   "execution_count": 89,
   "id": "8c747a33",
   "metadata": {},
   "outputs": [
    {
     "name": "stdout",
     "output_type": "stream",
     "text": [
      "1\n",
      "1\n",
      "2\n",
      "3\n",
      "5\n",
      "8\n",
      "13\n",
      "21\n",
      "done\n"
     ]
    }
   ],
   "source": [
    "def fibo(a,b):\n",
    "    while b<=25:\n",
    "        print(b)\n",
    "        a,b =b,a+b\n",
    "fibo(0,1)  \n",
    "print(\"done\")"
   ]
  },
  {
   "cell_type": "code",
   "execution_count": null,
   "id": "2dd121dd",
   "metadata": {},
   "outputs": [],
   "source": []
  }
 ],
 "metadata": {
  "kernelspec": {
   "display_name": "Python 3 (ipykernel)",
   "language": "python",
   "name": "python3"
  },
  "language_info": {
   "codemirror_mode": {
    "name": "ipython",
    "version": 3
   },
   "file_extension": ".py",
   "mimetype": "text/x-python",
   "name": "python",
   "nbconvert_exporter": "python",
   "pygments_lexer": "ipython3",
   "version": "3.9.12"
  }
 },
 "nbformat": 4,
 "nbformat_minor": 5
}
